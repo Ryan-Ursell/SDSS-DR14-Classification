{
 "cells": [
  {
   "cell_type": "markdown",
   "metadata": {},
   "source": [
    "# Question 2: How can a Feed Forward Neural Network be used to classify celestial objects (Stars, Galaxies, and Quasars)"
   ]
  },
  {
   "cell_type": "markdown",
   "metadata": {},
   "source": [
    "## Introduction"
   ]
  },
  {
   "cell_type": "markdown",
   "metadata": {},
   "source": [
    "### Overview"
   ]
  },
  {
   "cell_type": "markdown",
   "metadata": {},
   "source": [
    "In this notebook I will explain how to use a Feed Forward Nerual Network to classify different classes within a dataset. I am using the same dataset as Question 1: SDSS DR14."
   ]
  },
  {
   "cell_type": "markdown",
   "metadata": {},
   "source": [
    "### What is a Feed Forward Neural Network?"
   ]
  },
  {
   "cell_type": "markdown",
   "metadata": {},
   "source": [
    "A Feedforward Neural Network (FNN) is one of the simplest and most fundamental types of Neural Networks (NN). An FNN consists of three main types of layers:\n",
    "\n",
    "- Input Layer:\n",
    "    - This is where the data enters the network, typically represented by the raw input data, such as numerical values, features extracted from images, or encoded categorical data\n",
    "- Hidden Layers:\n",
    "    - These intermediate layers are where computations and transformations occur\n",
    "    - A typical FNN might have two or three hidden layers, with each layer containing several interconnected nodes\n",
    "    - Activation Functions: \n",
    "        - Non-linear activation functions, such as ReLU (Rectified Linear Unit), Sigmoid, or Tanh, are applied between layers to introduce non-linearity, enabling the network to learn complex relationships\n",
    "        - Without these activation functions, the network could only model linear relationships, limiting its effectiveness\n",
    "- Output Layer:\n",
    "    - The final layer produces the network's result, such as a classification label or a numerical prediction\n",
    "    - The structure of the output layer depends on the problem type; classification problems often use a softmax activation function for probabilities, while regression problems might use a linear output"
   ]
  },
  {
   "cell_type": "markdown",
   "metadata": {},
   "source": [
    "### How do FNNs work?"
   ]
  },
  {
   "cell_type": "markdown",
   "metadata": {},
   "source": [
    "Unlike more complex architectures, FNNs are characterized by their unidirectional flow of information. Data travels through the network in a single direction: from the input layer, through the hidden layers, and finally to the output layer. Having no loops simplifies both the understanding and implementation of FNNs.\n",
    "\n",
    "In a standard FNN, every node in one layer is fully connected to every node in the next layer. These connections are weighted, meaning the network learns which features are most relevant to the task by adjusting these weights during training."
   ]
  },
  {
   "cell_type": "markdown",
   "metadata": {},
   "source": [
    "### How does Training work?"
   ]
  },
  {
   "cell_type": "markdown",
   "metadata": {},
   "source": [
    "FNNs are typically trained using supervised learning, where the network is provided with input data and corresponding labels. Then throughout the training, the error between the network's predictions and the actual labels is minimised. This is done through backpropagation, an algorithm that calculates the gradient of the error with respect to the network's weights. The weights are then updated using optimization techniques, such as gradient descent or its variants (e.g., Adam, RMSprop).\n",
    "\n",
    "During training, the dataset is usually divided into three subsets:\n",
    "\n",
    "- Training Set:\n",
    "    - Used to train the model\n",
    "- Validation Set:\n",
    "    - Used to tune hyperparameters and monitor performance during training\n",
    "- Test Set:\n",
    "    - Used to evaluate the model's performance on unseen data"
   ]
  },
  {
   "cell_type": "markdown",
   "metadata": {},
   "source": [
    "### Pros and Cons of FNNs"
   ]
  },
  {
   "cell_type": "markdown",
   "metadata": {},
   "source": [
    "Pros:\n",
    "- Simplicity:\n",
    "    - FNNs have a straightforward structure with a unidirectional flow of data, making them easier to understand and implement compared to other neural network architectures\n",
    "- Versatility:\n",
    "    - They can be applied to a wide range of problems, including classification, regression, and basic pattern recognition tasks\n",
    "- Efficient for Small Datasets:\n",
    "    - FNNs are effective when the dataset is not extremely large or complex, as they don't require the advanced mechanisms of more sophisticated architectures\n",
    "- Deterministic Flow:\n",
    "    - Data flows in a predictable manner, which simplifies debugging and analysis of the network's behavior\n",
    "- Non-linearity:\n",
    "    - Activation functions in FNNs enable them to model non-linear relationships, making them capable of learning complex patterns\n",
    "- Fully Connected Architecture:\n",
    "    - Every node in one layer connects to every node in the next, ensuring all features have a chance to contribute to the output\n",
    "\n",
    "Cons:\n",
    "- Computationally Intensive:\n",
    "    - The fully connected architecture requires a large number of parameters to train, leading to higher computational costs for large networks\n",
    "- Lack of Temporal Awareness:\n",
    "    - FNNs are unsuitable for sequential or time-series data (e.g., speech or stock prices), as they lack memory or mechanisms to retain information about past inputs\n",
    "- Prone to Overfitting:\n",
    "    - With a large number of parameters and limited data, FNNs can easily overfit the training set, reducing generalization to unseen data\n",
    "- Scalability Issues:\n",
    "    - As the size of the input or the problem complexity increases, the number of required neurons and layers grows significantly, making training and inference slower\n",
    "- Data Dependency:\n",
    "    - They require well-preprocessed and labeled data for effective learning, which can be time-consuming and resource-intensive\n",
    "- Not Modular:\n",
    "    - Unlike architectures like convolutional neural networks (CNNs), which are designed to efficiently handle structured data (e.g., images), FNNs treat all inputs equally, making them less efficient for specific types of tasks\n",
    "- Vulnerability to Vanishing Gradients:\n",
    "    - Deep FNNs can suffer from vanishing gradient problems during training, especially with activation functions like Sigmoid or Tanh"
   ]
  },
  {
   "cell_type": "markdown",
   "metadata": {},
   "source": [
    "## Imports"
   ]
  },
  {
   "cell_type": "code",
   "execution_count": 2,
   "metadata": {},
   "outputs": [],
   "source": [
    "import torch\n",
    "import numpy as np\n",
    "import pandas as pd\n",
    "import seaborn as sns\n",
    "from torch import nn, optim\n",
    "import matplotlib.pyplot as plt\n",
    "from sklearn.model_selection import train_test_split\n",
    "from sklearn.preprocessing import StandardScaler, LabelEncoder\n",
    "from sklearn.metrics import classification_report, confusion_matrix"
   ]
  },
  {
   "cell_type": "markdown",
   "metadata": {},
   "source": [
    "## Initialising the Dataset"
   ]
  },
  {
   "cell_type": "markdown",
   "metadata": {},
   "source": [
    "Like in the Q1 notebook, we need to load the data in a useable form (i.e. a pandas dataframe)."
   ]
  },
  {
   "cell_type": "code",
   "execution_count": 3,
   "metadata": {},
   "outputs": [],
   "source": [
    "# change the path to where the csv file is stored on your pc\n",
    "path = \"/Users/Ryan/Documents/Ryan's Documents/Uni/Year 4/Comp/Coursework 2/SDSS.csv\"\n",
    "data = pd.read_csv(path)\n",
    "#data"
   ]
  },
  {
   "cell_type": "markdown",
   "metadata": {},
   "source": [
    "I am going to start off using the same features as in Q1."
   ]
  },
  {
   "cell_type": "code",
   "execution_count": 4,
   "metadata": {},
   "outputs": [],
   "source": [
    "features = data[['u', 'g', 'r', 'i', 'z']]\n",
    "labels = data['class']\n",
    "#features"
   ]
  },
  {
   "cell_type": "markdown",
   "metadata": {},
   "source": [
    "## Data Preprocessing"
   ]
  },
  {
   "cell_type": "markdown",
   "metadata": {},
   "source": [
    "Like in Q1 with the decision tree, we need to split the data between training and testing. However, now we're also going to split out a validation set. Where the training set is used to train the model, and the testing set is used to measure the models performance, the validation set will be used to tune hyperparameters (e.g., learning rate, architecture) and monitor overfitting during training.\n",
    "\n",
    "A validation set isn't needed for a traditional appraoch like a decision tree but is useful for a NN for a few reasons:\n",
    "- Hyperparameter Tuning:\n",
    "    - NNs have many hyperparameters (e.g., learning rate, number of layers, units per layer, dropout rate, etc.)\n",
    "    - These hyperparameters significantly affect the model's performance and need to be tuned carefully\n",
    "    - A validation set is essential for assessing how well different hyperparameter configurations generalize to unseen data, guiding the selection of the best combination\n",
    "- Overfitting and Regularization:\n",
    "    - NNs are highly flexible and prone to overfitting, especially when they have many parameters relative to the size of the dataset\n",
    "    - Validation sets help monitor overfitting during training (e.g., by stopping early when validation loss stops improving) and determine the effectiveness of regularization techniques like dropout or weight decay\n",
    "- Iterative Training:\n",
    "    - NNs are trained iteratively over multiple epochs, and their performance changes dynamically during training\n",
    "    - A validation set is necessary to monitor this performance over time and decide when to stop training (e.g., early stopping to avoid overfitting)\n",
    "- Model Complexity:\n",
    "    - NNs can represent highly complex functions, making them more prone to capturing noise in the training data\n",
    "    - A validation set is critical for estimating generalization performance and ensuring the model does not memorize the training data\n",
    "- Optimization Algorithms:\n",
    "    - NNs rely on gradient-based optimization, which can be sensitive to the choice of learning rate and other settings\n",
    "    - The validation set helps evaluate how well the optimization process generalizes to unseen data"
   ]
  },
  {
   "cell_type": "code",
   "execution_count": 5,
   "metadata": {},
   "outputs": [],
   "source": [
    "# Split the data into training, verification, and testing sets\n",
    "    # train_test_split() splits the data into training and testing sets\n",
    "    # test_size=0.2 specifies that 20% of the data should be used for testing\n",
    "    # random_state=42 is a random seed used to shuffle the data\n",
    "    # The data is split into training and validation sets in a 80:20 ratio\n",
    "    # The training set is then split into training and validation sets in a 80:20 ratio\n",
    "    # The final data is split into training, validation, and testing sets in a 64:16:20 ratio\n",
    "features_train_val, features_test, label_train_val, label_test = train_test_split(features, labels, test_size=0.2, random_state=42)\n",
    "features_train, features_val, label_train, label_val = train_test_split(features_train_val, label_train_val, test_size=0.2, random_state=42)"
   ]
  },
  {
   "cell_type": "markdown",
   "metadata": {},
   "source": [
    "In order to train a NN we need to get the data into the right format to work with. The first step is to normalise all the data. NNs often perform better with normalised data because they are sensitive to the scale of the input features. Standardization ensures that features with larger ranges don’t dominate, and makes the model converge faster.\n",
    "\n",
    "These next few steps can be done before splitting, however there are a few benefits to splitting the data first:\n",
    "- Avoiding Data Leakage:\n",
    "    - If we apply encoding or scaling to the entire dataset before splitting, information from the validation and test sets \"leaks\" into the transformations applied to the training set\n",
    "    - This can result in an artificially inflated model performance since the preprocessing step has already seen information from unseen data\n",
    "    - By splitting first, the encoder and scaler are fitted only on the training set, which ensures that the transformations applied to the validation and test sets are based solely on the training data\n",
    "- Real-World Emulation:\n",
    "    - In a real-world deployment, the model will encounter unseen data and must preprocess it using transformations derived from the training set\n",
    "    - Splitting first mimics this scenario, as the encoder and scaler applied to validation and test data are based on the training set alone\n",
    "- Preventing Overfitting:\n",
    "    - If the entire dataset is scaled or encoded together, the model might \"learn\" patterns that exist across the entire dataset but do not generalize to unseen data\n",
    "    - Splitting first ensures that the model cannot rely on preprocessed patterns from the validation and test sets, reducing the risk of overfitting\n",
    "- Ensuring Reproducibility:\n",
    "    - When splitting first, a clear distinction between the training and evaluation phases is maintained\n",
    "    - This makes it easier to reproduce results and understand the source of any discrepancies in model performance"
   ]
  },
  {
   "cell_type": "code",
   "execution_count": 6,
   "metadata": {},
   "outputs": [],
   "source": [
    "# Initiliase the StandardScaler() function\n",
    "    # It's important to initialise the StandardScaler() function, then use it for all the data sets to ensure that the same scaling is applied to all the data sets\n",
    "    # The StandardScaler() function scales the data so that it has a mean of 0 and a standard deviation of 1\n",
    "scaler = StandardScaler()\n",
    "\n",
    "# Fit the StandardScaler() function to the training data\n",
    "    # The fit_transform() function fits the StandardScaler() function to the training data and then scales the training data\n",
    "    # The transform() function scales the validation and testing data using the same scaling as the training data\n",
    "    # This ensures that the validation and testing data are scaled in the same way as the training data\n",
    "features_train_normalised = scaler.fit_transform(features_train)\n",
    "features_val_normalised = scaler.transform(features_val)\n",
    "features_test_normalised = scaler.transform(features_test) "
   ]
  },
  {
   "cell_type": "markdown",
   "metadata": {},
   "source": [
    "We then need to convert the label names (Star, Galaxy, QSO) into numbers as NNs expect numerical inputs and outputs."
   ]
  },
  {
   "cell_type": "code",
   "execution_count": 7,
   "metadata": {},
   "outputs": [],
   "source": [
    "# Encode the labels using the LabelEncoder() function\n",
    "    # Again, it's important to initialise the LabelEncoder() function, then use it for all the data sets to ensure that the same encoding is applied to all the data sets\n",
    "    # The LabelEncoder() function encodes the labels, in alphabetical order, as integers starting from 0 (e.g. Galaxy is 0, QSO is 1, Star is 2)\n",
    "    # This is necessary because the labels need to be integers for the model to be able to use them\n",
    "label_encoder = LabelEncoder()\n",
    "\n",
    "# Fit the LabelEncoder() function to the training labels\n",
    "    # The fit_transform() function fits the LabelEncoder() function to the training labels and then encodes the training labels\n",
    "    # The transform() function encodes the validation and testing labels using the same encoding as the training labels\n",
    "    # This ensures that the validation and testing labels are encoded in the same way as the training labels\n",
    "label_train_encoded = label_encoder.fit_transform(label_train)\n",
    "label_val_encoded = label_encoder.transform(label_val)\n",
    "label_test_encoded = label_encoder.transform(label_test)"
   ]
  },
  {
   "cell_type": "markdown",
   "metadata": {},
   "source": [
    "We then want to store the datasets as a PyTorch tensor, which are similar to NumPy arrays but have some unique features that make them more suitable for machine learning tasks.\n",
    "\n",
    "- Multi-Dimensional Arrays:\n",
    "    - Tensors can have any number of dimensions, making them versatile for representing various types of data, such as scalars (0D), vectors (1D), matrices (2D), and higher-dimensional arrays\n",
    "- GPU Acceleration:\n",
    "    - PyTorch tensors can be moved to and operated on using GPUs, which significantly speeds up computations, especially for large-scale machine learning models\n",
    "- Automatic Differentiation:\n",
    "    - PyTorch tensors support automatic differentiation, which is essential for training NNs. This feature is provided by PyTorch's autograd module, which automatically computes gradients for tensor operations\n",
    "- Interoperability with NumPy:\n",
    "    - PyTorch tensors can be easily converted to and from NumPy arrays, allowing seamless integration with existing NumPy-based code"
   ]
  },
  {
   "cell_type": "code",
   "execution_count": 8,
   "metadata": {},
   "outputs": [],
   "source": [
    "# Convert features and labels into PyTorch tensors\n",
    "    # torch.tensor() creates a tensor from a NumPy array\n",
    "    # dtype=torch.float32 and dtype=torch.long specify the data type of the tensor\n",
    "features_train_tensor = torch.tensor(features_train_normalised, dtype=torch.float32)\n",
    "features_val_tensor = torch.tensor(features_val_normalised, dtype=torch.float32)\n",
    "features_test_tensor = torch.tensor(features_test_normalised, dtype=torch.float32)\n",
    "label_train_tensor = torch.tensor(label_train_encoded, dtype=torch.long)\n",
    "label_val_tensor = torch.tensor(label_val_encoded, dtype=torch.long)\n",
    "label_test_tensor = torch.tensor(label_test_encoded, dtype=torch.long)"
   ]
  },
  {
   "cell_type": "markdown",
   "metadata": {},
   "source": [
    "The final preprocessing we need to complete is to create dataloaders for the train, validation, and test sets.\n",
    "\n",
    "- Dataset:\n",
    "    - We wrap both the feature and label tensor for the training, validation, and testing sets together into a Dataset object\n",
    "    - Treating the tensors as a dataset likes this allows us to make a Dataloader\n",
    "\n",
    "- Dataloader:\n",
    "    - Dataloaders provide an efficient way to iterate over a dataset\n",
    "    - They are designed to handle batching, shuffling, and parallel data loading, making it easier to feed data into a model during training and evaluation\n",
    "    - Batching divindes the dataset into small subsets that are processed sequentially, which is more efficient than processing them one at a time\n",
    "    - Shuffling the data introduces randomness and improves the generalisation of the model by ensure the model doesn't just learn the order of the data\n",
    "    - Parallel data loading speeds the data loading process up by running multiple worker processes at once"
   ]
  },
  {
   "cell_type": "code",
   "execution_count": 9,
   "metadata": {},
   "outputs": [],
   "source": [
    "# Create a Dataset for the training, validation, and testing sets\n",
    "    # torch.utils.data.TensorDataset() creates a dataset from the tensors\n",
    "    # A dataset is a collection of features and labels\n",
    "    # The dataset is used to create a DataLoader\n",
    "train_dataset = torch.utils.data.TensorDataset(features_train_tensor, label_train_tensor)\n",
    "val_dataset = torch.utils.data.TensorDataset(features_val_tensor, label_val_tensor)\n",
    "test_dataset = torch.utils.data.TensorDataset(features_test_tensor, label_test_tensor)\n",
    "\n",
    "# Create a DataLoader for the training, validation, and testing sets\n",
    "    # torch.utils.data.DataLoader() creates a DataLoader from the dataset\n",
    "    # A DataLoader is an iterable that provides batches of data\n",
    "    # batch_size=32 specifies that each batch should contain 32 samples, can be finetuned\n",
    "    # shuffle specifies whether the data should be shuffled or not\n",
    "train_loader = torch.utils.data.DataLoader(train_dataset, batch_size=32, shuffle=True)\n",
    "val_loader = torch.utils.data.DataLoader(val_dataset, batch_size=32, shuffle=False)\n",
    "test_loader = torch.utils.data.DataLoader(test_dataset, batch_size=32, shuffle=False)"
   ]
  },
  {
   "cell_type": "markdown",
   "metadata": {},
   "source": [
    "## Defining the Neural Network"
   ]
  },
  {
   "cell_type": "markdown",
   "metadata": {},
   "source": [
    "Now that we have the data ready, we can define the actual NN. The SimpleNN class defines a Feedforward Neural Network (FNN), which is the simplest type of NN. It's called feedforward because the data flows in one direction; from the input layer, through any hidden layers, into the output layer. There are no loops or cycles in the network.\n",
    "\n",
    "The first thing the SimpleNN class does it inherit from PyTorch's nn.Module class, which is the base class for all NN models in PyTorch. This inheritance provides the necessary structure and methods to define and train a NN.\n",
    "\n",
    "It then sets up the layers required by the NN.\n",
    "\n",
    "- The Input Layer:\n",
    "    - The input layer is the first layer of the NN and has the same number of neurons as the number of input features\n",
    "    - It isn't explicitly defined in the SimpleNN class because it's just the input data\n",
    "- First Fully Connected Layer:\n",
    "    - The first hiddem layer of the NN\n",
    "    - Tranforms the input data and outputs it to the ReLu activation function\n",
    "    = Transformation is linear: output = input * weight matrix * bias vector\n",
    "        - Weight matrix and bias vector are learned during the training\n",
    "- Rectified Linear Unit (ReLU) Activation Function:\n",
    "    - The ReLU activation function is applied to the output of the first fully connected layer\n",
    "    - Introduces non-linearity into the NN by setting any negative inputs to zero\n",
    "- Second Fully Connected Layer:\n",
    "    - Takes the output from the ReLU function as an input and performs another linear transformation\n",
    "- Third Fully Connected Layer:\n",
    "    - Takes the output from the second layer and outputs to the Log Softmax activation function\n",
    "- Log Softmax Activation Function:\n",
    "    - Ensures all inputs are between 0 and 1, and that they sum to 1\n",
    "    - This ensentially turns computes probabilities\n",
    "\n",
    "Next it defines the forward() method, which specifies how the data flows through the NN. The forward() method takes the input data as a tensor, then passes it to the first connected layer. The linear output is then passed through the ReLU activation function to help the NN learn complex relationship in the data. The tensor is then passed into the second connected layer, the third, and finally the softmax activation function where log probabilities are calculated. "
   ]
  },
  {
   "cell_type": "code",
   "execution_count": 10,
   "metadata": {},
   "outputs": [],
   "source": [
    "class SDSSClassifier(nn.Module):\n",
    "    '''\n",
    "    This class defines the NN model for the classification task. The NN model consists of three fully connected \n",
    "        layers with ReLU activation functions and a softmax activation function at the output layer. The NN model is defined in\n",
    "        the __init__() function and the forward pass is defined in the forward() function.\n",
    "    '''\n",
    "    def __init__(self, input_size, hidden_size, num_classes):\n",
    "        '''\n",
    "        This function initialises the SDSSClassifier class\n",
    "\n",
    "        :param input_size: The number of input features, e.g. 5 for [u, g, r, i, z]\n",
    "        :param hidden_size: The number of neurons in the hidden layer\n",
    "        :param num_classes: The number of output classes, e.g. 3 for [Galaxy, QSO, and Star]\n",
    "        '''\n",
    "        # The super() function is used to call the __init__() function of the parent class (nn.Module)\n",
    "        super(SDSSClassifier, self).__init__()\n",
    "\n",
    "        # Define the layers of the NN\n",
    "            # nn.Linear() defines a fully connected layer\n",
    "                # The first argument is the number of input neurons\n",
    "                # The second argument is the number of output neurons\n",
    "        self.fc1 = nn.Linear(input_size, hidden_size) # First fully connected layer\n",
    "        self.relu = nn.ReLU() # ReLU activation function\n",
    "        self.fc2 = nn.Linear(hidden_size, hidden_size) # Second fully connected layer\n",
    "        self.fc3 = nn.Linear(hidden_size, num_classes) # Third fully connected layer\n",
    "        self.softmax = nn.Softmax(dim=1) # Softmax activation function\n",
    "\n",
    "    def forward(self, input_features):\n",
    "        '''\n",
    "        This function defines the forward pass of the NN model and is called when the NN model is run. The forward\n",
    "            pass is the process of inputting the input features into the NN and obtaining an output.\n",
    "\n",
    "        :param input_features: The input features\n",
    "        :return: The output of the NN (the class probabilities)\n",
    "        '''\n",
    "        input_features = self.fc1(input_features) # Pass the input features through the first fully connected layer\n",
    "        input_features = self.relu(input_features) # Pass the output of the first fully connected layer through the ReLU activation function\n",
    "        input_features = self.fc2(input_features) # Pass the output of the ReLU activation function through the second fully connected layer\n",
    "        input_features = self.relu(input_features) # Pass the output of the second fully connected layer through the ReLU activation function\n",
    "        input_features = self.fc3(input_features) # Pass the output of the ReLU activation function through the third fully connected layer\n",
    "        return self.softmax(input_features) # Apply the softmax activation function to the output of the third fully connected layer and return the result"
   ]
  },
  {
   "cell_type": "markdown",
   "metadata": {},
   "source": [
    "Now that the NN has been defined, we can start to initialise it. The input, hidden, and output sizes are defined and then fed into the SimpleNN class to create the model."
   ]
  },
  {
   "cell_type": "code",
   "execution_count": 11,
   "metadata": {},
   "outputs": [],
   "source": [
    "# Define the NN model, loss function, and optimiser\n",
    "# Input size is the number of input features (e.g., 5 for u, g, r, i, z) we will use\n",
    "input_size = features_train_tensor.shape[1]\n",
    "\n",
    "# Hidden size is the number of neurons in the hidden layer\n",
    "hidden_size = 64  # You can change this value to see how it affects the performance of the model\n",
    "\n",
    "# Output size is the number of classes (e.g., 3 for star, galaxy, quasar)\n",
    "    # The number of classes is the number of unique labels in the training data\n",
    "    # The np.unique() function returns the unique elements in an array, in this case the unique labels in the training data\n",
    "num_classes = len(np.unique(label_train_tensor))\n",
    "\n",
    "# Create an instance of the SDSSClassifier class\n",
    "model = SDSSClassifier(input_size, hidden_size, num_classes)"
   ]
  },
  {
   "cell_type": "markdown",
   "metadata": {},
   "source": [
    "## Set up the loss function and optimiser"
   ]
  },
  {
   "cell_type": "markdown",
   "metadata": {},
   "source": [
    "Next we define the loss function and optimiser.\n",
    "\n",
    "- Loss function:\n",
    "    - Used to calculate the error between the predicted output of the NN and the actual labels\n",
    "    - A hyperparameter that needs to be tuned to achieve the best performance of the model\n",
    "\n",
    "- Optmiser:\n",
    "    - Used to update the weights of the NN based on the error calculated by the loss function\n",
    "    - There are many different optimisers available in PyTorch, such as Adam, SGD, RMSprop, etc. We use Adam in this example because it is a popular choice for many tasks, and commonly used for NNs\n",
    "    - The Adam optimiser is an adaptive learning rate optimiser that adjusts the learning rate during training, which can help the model converge faster and achieve better performance\n",
    "\n",
    "The loss function and optimiser are defined outside the NN model class because they are not part of the NN architecture but are instead used to train the NN. This also allows them to be easily changed or modified without affecting the NN architecture.\n",
    "\n",
    "- Learning rate:\n",
    "    - The learning rate controls how much the weights of the NN are updated during training\n",
    "    - A higher learning rate means the weights are updated more and a smaller learning rate means the weights are updated less, during the training.\n",
    "    - If the learning rate is too high, the model may converge too quickly or diverge, as it overshoots the minimum of the loss function\n",
    "    - If the learning rate is too low, the training process can get stuck in a local minimum and/or take a very long time to complete"
   ]
  },
  {
   "cell_type": "code",
   "execution_count": 12,
   "metadata": {},
   "outputs": [],
   "source": [
    "# Define the loss function\n",
    "    # nn.CrossEntropyLoss() is the loss function used for classification tasks with multiple classes\n",
    "    # The CrossEntropyLoss() function combines the softmax activation function and the negative log likelihood loss function\n",
    "criterion = nn.CrossEntropyLoss()\n",
    "\n",
    "# Define the optimiser\n",
    "    # optim.Adam() is the optimiser used to update the weights of the NN\n",
    "    # The Adam optimiser is an extension of the stochastic gradient descent optimiser\n",
    "    # The Adam optimiser adapts the learning rate for each parameter during training\n",
    "    # The learning rate is specified by the lr argument, which is set to 0.001 (can be finetuned)\n",
    "    # The model.parameters() function specifies the parameters that need to be updated by the optimiser, which in this case are the weights of the NN\n",
    "optimizer = optim.Adam(model.parameters(), lr=0.001)"
   ]
  },
  {
   "cell_type": "markdown",
   "metadata": {},
   "source": [
    "## Train the model"
   ]
  },
  {
   "cell_type": "markdown",
   "metadata": {},
   "source": []
  },
  {
   "cell_type": "code",
   "execution_count": 13,
   "metadata": {},
   "outputs": [
    {
     "name": "stdout",
     "output_type": "stream",
     "text": [
      "Epoch [1/20], Train Loss: 0.8839, Val Loss: 0.7758\n",
      "Epoch [2/20], Train Loss: 0.7523, Val Loss: 0.7027\n",
      "Epoch [3/20], Train Loss: 0.6694, Val Loss: 0.6447\n",
      "Epoch [4/20], Train Loss: 0.6342, Val Loss: 0.6277\n",
      "Epoch [5/20], Train Loss: 0.6253, Val Loss: 0.6206\n",
      "Epoch [6/20], Train Loss: 0.6203, Val Loss: 0.6254\n",
      "Epoch [7/20], Train Loss: 0.6166, Val Loss: 0.6163\n",
      "Epoch [8/20], Train Loss: 0.6152, Val Loss: 0.6136\n",
      "Epoch [9/20], Train Loss: 0.6130, Val Loss: 0.6125\n",
      "Epoch [10/20], Train Loss: 0.6106, Val Loss: 0.6085\n",
      "Epoch [11/20], Train Loss: 0.6096, Val Loss: 0.6068\n",
      "Epoch [12/20], Train Loss: 0.6087, Val Loss: 0.6080\n",
      "Epoch [13/20], Train Loss: 0.6076, Val Loss: 0.6055\n",
      "Epoch [14/20], Train Loss: 0.6067, Val Loss: 0.6042\n",
      "Epoch [15/20], Train Loss: 0.6045, Val Loss: 0.6007\n",
      "Epoch [16/20], Train Loss: 0.6040, Val Loss: 0.6007\n",
      "Epoch [17/20], Train Loss: 0.6026, Val Loss: 0.5999\n",
      "Epoch [18/20], Train Loss: 0.6033, Val Loss: 0.6036\n",
      "Epoch [19/20], Train Loss: 0.6010, Val Loss: 0.5976\n",
      "Epoch [20/20], Train Loss: 0.6010, Val Loss: 0.5999\n"
     ]
    }
   ],
   "source": [
    "# Set number of epochs for training\n",
    "num_epochs = 20\n",
    "\n",
    "# Initialize lists to store training and validation loss history\n",
    "train_loss_history = []\n",
    "val_loss_history = []\n",
    "\n",
    "# Train the model for the specified number of epochs\n",
    "for epoch in range(num_epochs):\n",
    "    # Enable training mode for the model (some layers may have different behaviour during training and evaluation)\n",
    "    model.train()\n",
    "\n",
    "    # Set running loss to 0 for each epoch\n",
    "    running_loss = 0.0\n",
    "    \n",
    "    # Iterate over the training data\n",
    "    for inputs, labels in train_loader:\n",
    "        # Zero the gradient buffers\n",
    "            # It's necessary to zero the gradient buffers before the backward pass to prevent gradient accumulation\n",
    "        optimizer.zero_grad()\n",
    "        \n",
    "        # Forward pass\n",
    "            # The inputs (features) are passed through the model to obtain the outputs\n",
    "            # The outputs are the class probabilities for each sample\n",
    "        outputs = model(inputs)\n",
    "        \n",
    "        # Compute the loss\n",
    "            # The loss is computed by comparing the outputs (class probabilities) to the labels (true classes)\n",
    "        loss = criterion(outputs, labels)\n",
    "        \n",
    "        # Backward pass (compute gradients)\n",
    "            # The backward() function computes the gradients of the loss with respect to the model parameters\n",
    "            # The gradients are used to update the weights of the model\n",
    "        loss.backward()\n",
    "        \n",
    "        # Update model parameters\n",
    "            # The step() function updates the weights of the model using the gradients computed in the backward pass\n",
    "            # The optimizer uses the gradients to update the weights according to the optimisation algorithm (Adam in this case)\n",
    "        optimizer.step()\n",
    "        \n",
    "        # Accumulate loss\n",
    "            # The loss.item() function returns the loss as a scalar value\n",
    "            # The loss is accumulated for each batch to calculate the average loss for the epoch\n",
    "        running_loss += loss.item()\n",
    "    \n",
    "    # Calculate average loss for the epoch\n",
    "        # The average loss is calculated by dividing the accumulated loss by the number of batches\n",
    "    train_loss = running_loss / len(train_loader)\n",
    "    train_loss_history.append(train_loss)\n",
    "\n",
    "\n",
    "    # Enable evaluation mode for the model\n",
    "    model.eval()\n",
    "\n",
    "    # Set validation loss to 0 for each epoch\n",
    "    val_loss = 0.0\n",
    "\n",
    "    # Disable gradient calculation during validation\n",
    "        # It's not necessary to calculate gradients during validation\n",
    "        # The no_grad() context manager is used to disable gradient calculation\n",
    "        # Disabling gradient calculation reduces memory consumption and speeds up the computations\n",
    "    with torch.no_grad():\n",
    "        # Iterate over the validation data\n",
    "        for inputs, labels in val_loader:\n",
    "            # Forward pass\n",
    "                # The inputs (features) are passed through the model to obtain the outputs\n",
    "                # The outputs are the class probabilities for each sample\n",
    "            outputs = model(inputs)\n",
    "\n",
    "            # Compute the loss\n",
    "                # The loss is computed by comparing the outputs (class probabilities) to the labels (true classes)\n",
    "            loss = criterion(outputs, labels)\n",
    "            \n",
    "            # Accumulate loss\n",
    "                # The loss.item() function returns the loss as a scalar value\n",
    "                # The loss is accumulated for each batch to calculate the average loss for the epoch\n",
    "            val_loss += loss.item()\n",
    "    \n",
    "    # Calculate average loss for the epoch\n",
    "        # The average loss is calculated by dividing the accumulated loss by the number of batches\n",
    "    val_loss /= len(val_loader)\n",
    "    val_loss_history.append(val_loss)\n",
    "\n",
    "    # Print training and validation loss for the epoch\n",
    "    print(f\"Epoch [{epoch+1}/{num_epochs}], Train Loss: {train_loss:.4f}, Val Loss: {val_loss:.4f}\")\n"
   ]
  },
  {
   "cell_type": "markdown",
   "metadata": {},
   "source": [
    "## Plotting the Model"
   ]
  },
  {
   "cell_type": "markdown",
   "metadata": {},
   "source": []
  },
  {
   "cell_type": "code",
   "execution_count": 14,
   "metadata": {},
   "outputs": [
    {
     "name": "stdout",
     "output_type": "stream",
     "text": [
      "Classification Report:\n",
      "              precision    recall  f1-score   support\n",
      "\n",
      "      GALAXY       0.96      0.94      0.95       996\n",
      "         QSO       0.91      0.95      0.93       190\n",
      "        STAR       0.94      0.95      0.94       814\n",
      "\n",
      "    accuracy                           0.95      2000\n",
      "   macro avg       0.94      0.95      0.94      2000\n",
      "weighted avg       0.95      0.95      0.95      2000\n",
      "\n"
     ]
    }
   ],
   "source": [
    "# Set the model to evaluation mode\n",
    "model.eval()\n",
    "\n",
    "# Initialize lists to store predictions and true labels\n",
    "all_preds = []\n",
    "all_labels = []\n",
    "\n",
    "# Predict on the test set\n",
    "with torch.no_grad():\n",
    "    # Iterate over the test data\n",
    "    for inputs, labels in test_loader:\n",
    "        # Forward pass\n",
    "            # The inputs (features) are passed through the model to obtain the outputs\n",
    "            # The outputs are the class probabilities for each sample\n",
    "        outputs = model(inputs)\n",
    "        \n",
    "        # Get predicted class with the highest probability\n",
    "            # The max() function returns the maximum value in the tensor\n",
    "            # The max() function returns two values: the maximum value and its index\n",
    "            # The index of the maximum value is the predicted class\n",
    "        _, preds = torch.max(outputs, 1)\n",
    "        \n",
    "        # Store predictions and true labels\n",
    "            # The preds and labels tensors are converted to NumPy arrays using the .numpy() function\n",
    "            # The predicted and true labels are stored in the all_preds and all_labels lists\n",
    "        all_preds.extend(preds.numpy())\n",
    "        all_labels.extend(labels.numpy())\n",
    "\n",
    "# Print the classification report\n",
    "print(\"Classification Report:\")\n",
    "print(classification_report(all_labels, all_preds, target_names=label_encoder.classes_))"
   ]
  },
  {
   "cell_type": "markdown",
   "metadata": {},
   "source": []
  },
  {
   "cell_type": "code",
   "execution_count": 15,
   "metadata": {},
   "outputs": [
    {
     "data": {
      "image/png": "[encoded data removed]",
      "text/plain": [
       "<Figure size 1000x600 with 1 Axes>"
      ]
     },
     "metadata": {},
     "output_type": "display_data"
    }
   ],
   "source": [
    "# Plot the training and validation loss curves\n",
    "\n",
    "# Set the figure size to be 10 inches by 6 inches (width by height), can be adjusted as needed\n",
    "plt.figure(figsize=(10, 6))\n",
    "\n",
    "# Plot the training and validation loss curves\n",
    "plt.plot(range(1, num_epochs + 1), train_loss_history, marker='o', label='Training Loss')\n",
    "plt.plot(range(1, num_epochs + 1), val_loss_history, marker='o', label='Validation Loss')\n",
    "\n",
    "# Add labels to the x and y axes\n",
    "plt.xlabel('Epoch')\n",
    "plt.ylabel('Loss')\n",
    "\n",
    "# Add a title to the plot, display the legend, and show a grid\n",
    "plt.title('Training and Validation Loss Curves')\n",
    "plt.legend()\n",
    "plt.grid()\n",
    "plt.show()\n"
   ]
  },
  {
   "cell_type": "markdown",
   "metadata": {},
   "source": []
  },
  {
   "cell_type": "code",
   "execution_count": 16,
   "metadata": {},
   "outputs": [
    {
     "data": {
      "image/png": "[encoded data removed]",
      "text/plain": [
       "<Figure size 1600x600 with 4 Axes>"
      ]
     },
     "metadata": {},
     "output_type": "display_data"
    }
   ],
   "source": [
    "# Calculate the confusion matrix\n",
    "    # The confusion_matrix() function computes the confusion matrix\n",
    "    # The confusion matrix is a table that shows the number of true positives, false positives, true negatives, and false negatives\n",
    "    # The confusion matrix is used to evaluate the performance of a classification model\n",
    "cm = confusion_matrix(all_labels, all_preds)\n",
    "\n",
    "# Normalize the confusion matrix\n",
    "    # Normalizing the confusion matrix makes it easier to interpret\n",
    "    # The normalized confusion matrix shows the proportion of samples that were correctly and incorrectly classified\n",
    "    # The axis argument specifies the axis along which the normalization is performed\n",
    "    # axis=1 normalizes the confusion matrix by the true class\n",
    "cm_normalized = cm.astype('float') / cm.sum(axis=1)[:, np.newaxis]\n",
    "\n",
    "# Create a figure with two subplots: one for the unnormalized confusion matrix, one for the normalized one\n",
    "fig, axes = plt.subplots(1, 2, figsize=(16, 6))\n",
    "\n",
    "# Plot the unnormalized confusion matrix\n",
    "    # The heatmap() function creates a heatmap of the confusion matrix\n",
    "    # The annot=True argument displays the counts in each cell of the heatmap\n",
    "    # The fmt='d' argument formats the counts as integers\n",
    "    # The cmap='Blues' argument sets the colour map to 'Blues'\n",
    "    # The xticklabels and yticklabels arguments set the labels for the x and y axes\n",
    "    # The ax argument specifies the subplot to use for the plot\n",
    "sns.heatmap(cm, annot=True, fmt='d', cmap='Blues', \n",
    "            xticklabels=label_encoder.classes_, \n",
    "            yticklabels=label_encoder.classes_, ax=axes[0])\n",
    "\n",
    "# Plot the normalized confusion matrix\n",
    "sns.heatmap(cm_normalized, annot=True, fmt='.4f', cmap='Blues', \n",
    "            xticklabels=label_encoder.classes_, \n",
    "            yticklabels=label_encoder.classes_, ax=axes[1])\n",
    "\n",
    "# Set the titles and labels for the plots\n",
    "axes[0].set_title('Confusion Matrix (Counts)', fontsize=14)\n",
    "axes[0].set_xlabel('Predicted', fontsize=12)\n",
    "axes[0].set_ylabel('Actual', fontsize=12)\n",
    "\n",
    "axes[1].set_title('Confusion Matrix (Normalized)', fontsize=14)\n",
    "axes[1].set_xlabel('Predicted', fontsize=12)\n",
    "axes[1].set_ylabel('Actual', fontsize=12)\n",
    "\n",
    "# Display the plots\n",
    "plt.tight_layout()\n",
    "plt.show()"
   ]
  },
  {
   "cell_type": "code",
   "execution_count": null,
   "metadata": {},
   "outputs": [],
   "source": []
  }
 ],
 "metadata": {
  "kernelspec": {
   "display_name": "Python 3",
   "language": "python",
   "name": "python3"
  },
  "language_info": {
   "codemirror_mode": {
    "name": "ipython",
    "version": 3
   },
   "file_extension": ".py",
   "mimetype": "text/x-python",
   "name": "python",
   "nbconvert_exporter": "python",
   "pygments_lexer": "ipython3",
   "version": "3.13.1"
  }
 },
 "nbformat": 4,
 "nbformat_minor": 2
}
