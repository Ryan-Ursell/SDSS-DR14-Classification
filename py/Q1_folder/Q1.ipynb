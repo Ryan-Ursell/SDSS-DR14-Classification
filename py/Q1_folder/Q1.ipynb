{
 "cells": [
  {
   "cell_type": "markdown",
   "metadata": {},
   "source": [
    "# Question 1: How can a traditional - non neural network approach be used to classify celestial objects (Stars, Galaxies, and Quasars)"
   ]
  },
  {
   "cell_type": "markdown",
   "metadata": {},
   "source": [
    "## Imports"
   ]
  },
  {
   "cell_type": "code",
   "execution_count": 21,
   "metadata": {},
   "outputs": [],
   "source": [
    "import pandas as pd\n",
    "from sklearn.model_selection import train_test_split\n",
    "from sklearn.tree import DecisionTreeClassifier, plot_tree\n",
    "from sklearn.metrics import classification_report, accuracy_score, confusion_matrix"
   ]
  },
  {
   "cell_type": "markdown",
   "metadata": {},
   "source": [
    "## Initialising the dataset"
   ]
  },
  {
   "cell_type": "markdown",
   "metadata": {},
   "source": [
    "I am using the SDSS DR14 dataset obtained from Kaggle: https://www.kaggle.com/datasets/lucidlenn/sloan-digital-sky-survey/data."
   ]
  },
  {
   "cell_type": "code",
   "execution_count": 19,
   "metadata": {},
   "outputs": [],
   "source": [
    "# Import the dataset as from a csv file to a Pandas dataframe\n",
    "path = '/Users/ryanu/Documents/Uni/ACT/SDSS-DR14-Classification/SDSS Data.csv'\n",
    "data = pd.read_csv(path)"
   ]
  },
  {
   "cell_type": "markdown",
   "metadata": {},
   "source": [
    "This dataset contains 18 columns, however most of them are not needed. I have chosen to only use the five filter bands; u, g, r, i, and z; and redshift."
   ]
  },
  {
   "cell_type": "code",
   "execution_count": 20,
   "metadata": {},
   "outputs": [],
   "source": [
    "parameters = data[[\"ra\", \"dec\", \"u\", \"g\", \"r\", \"i\", \"z\", \"redshift\"]]\n",
    "classification_examples = data[\"class\"]"
   ]
  },
  {
   "cell_type": "markdown",
   "metadata": {},
   "source": [
    "## Preparing the data for training and testing"
   ]
  },
  {
   "cell_type": "markdown",
   "metadata": {},
   "source": [
    "The data needs to be split into two parts. The training set will be used to train the model on how to classify the objects. The testing data is then used to determine how good the model is at classifying objects."
   ]
  },
  {
   "cell_type": "code",
   "execution_count": 22,
   "metadata": {},
   "outputs": [
    {
     "name": "stdout",
     "output_type": "stream",
     "text": [
      "Accuracy: 0.986\n",
      "Classification Report:\n",
      "               precision    recall  f1-score   support\n",
      "\n",
      "      GALAXY       0.98      0.99      0.99       996\n",
      "         QSO       0.95      0.93      0.94       190\n",
      "        STAR       1.00      1.00      1.00       814\n",
      "\n",
      "    accuracy                           0.99      2000\n",
      "   macro avg       0.98      0.97      0.97      2000\n",
      "weighted avg       0.99      0.99      0.99      2000\n",
      "\n"
     ]
    }
   ],
   "source": [
    "# Split the data into training and testing sets\n",
    "training_param, testing_param, train_classification, testing_classification = train_test_split(parameters, classification_examples, test_size=0.2, random_state=42)\n",
    "\n",
    "# Train the Decision Tree classifier\n",
    "clf = DecisionTreeClassifier(random_state=42)\n",
    "clf.fit(training_param, train_classification)\n",
    "\n",
    "# Make predictions on the test set\n",
    "classification_predict = clf.predict(testing_param)\n",
    "\n",
    "# Evaluate the model\n",
    "print(\"Accuracy:\", accuracy_score(testing_classification, classification_predict))\n",
    "print(\"Classification Report:\\n\", classification_report(testing_classification, classification_predict))\n",
    "\n",
    "\n",
    "# Plot the distribution of the classes with actual and correctly detected counts\n",
    "# Actual counts in the test set\n",
    "actual_counts = testing_classification.value_counts().sort_index()\n",
    "correct_counts = pd.Series(testing_classification[testing_classification == classification_predict]).value_counts().sort_index()"
   ]
  },
  {
   "cell_type": "code",
   "execution_count": null,
   "metadata": {},
   "outputs": [],
   "source": []
  }
 ],
 "metadata": {
  "kernelspec": {
   "display_name": "Python 3",
   "language": "python",
   "name": "python3"
  },
  "language_info": {
   "codemirror_mode": {
    "name": "ipython",
    "version": 3
   },
   "file_extension": ".py",
   "mimetype": "text/x-python",
   "name": "python",
   "nbconvert_exporter": "python",
   "pygments_lexer": "ipython3",
   "version": "3.13.1"
  }
 },
 "nbformat": 4,
 "nbformat_minor": 2
}
